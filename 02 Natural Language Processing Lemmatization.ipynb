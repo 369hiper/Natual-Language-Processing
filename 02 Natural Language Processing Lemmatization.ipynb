{
 "cells": [
  {
   "cell_type": "markdown",
   "metadata": {},
   "source": [
    "# Natural Language Processing"
   ]
  },
  {
   "cell_type": "code",
   "execution_count": 1,
   "metadata": {},
   "outputs": [],
   "source": [
    "import nltk\n",
    "# nltk.download()\n",
    "from nltk.stem import PorterStemmer\n",
    "from nltk.stem import WordNetLemmatizer"
   ]
  },
  {
   "cell_type": "code",
   "execution_count": 2,
   "metadata": {},
   "outputs": [],
   "source": [
    "import sys\n",
    "import sklearn"
   ]
  },
  {
   "cell_type": "code",
   "execution_count": 3,
   "metadata": {},
   "outputs": [],
   "source": [
    "paragraph = \"\"\"\n",
    "What are the qualities of your voice?\n",
    "The Throat Center. {Chakra of the Month}\n",
    "Mine is usually calm, soothing and clear. Yoga students often tell me my voice is relaxing, which is a sweet compliment. However, when I’m caught up in a moment of anger, fear or stress, my voice can get sharp and sound anything but calm and relaxing.\n",
    "\n",
    "Let’s bring more mindfulness to our voices and how we use them this month. Our December chakra focus is our communication center, the throat center.\n",
    "Just joining in? Read about the first, second, third and fourth chakras.\n",
    "\n",
    "Chakra author Anothea Judith writes:\n",
    "Vaguely Relephant Reads:\n",
    "\n",
    "You Don’t have to be an Alcoholic to be Wasted. Read \n",
    "\n",
    "How to Get Over the One you Can’t Get Over. Read \n",
    "\n",
    "Chakra five is the center related to communication through sound, vibration, self-expression and creativity.\n",
    "It is the realm of consciousness that controls, creates, transmits and receives communication, both within ourselves and between each other.\n",
    "It is the center of dynamic creativity, of synthesizing old ideas into something new.\n",
    "The fifth chakra color is bright, cerulean or turquoise blue.\n",
    "Some symptoms of an out-of-balance fifth chakra include suffering from throat-centered illnesses, like strep throat or losing our voice.\n",
    "Throaty ailments may mean we need to slow down, rest and communicate more clearly, both with ourselves and others, or they may be a result of excess communication or over-sharing—and a sign that we should give our voice a break and intentionally soak in silence.\n",
    "If our lives are busy, we need to relax and remember how to set boundaries, express our needs and allow time and space to nurture ourselves.\n",
    "When our throat chakra is healthy and balanced, we express ourselves and communicate clearly, honestly and openly—but not excessively.\n",
    "Here are some other ways to help balance and align our throat chakra:\n",
    "Chant\n",
    "Any time we speak, sing, scream, whisper or make any other sort of sound with our voice, we invoke throat energy. The element of vishuddha chakra is sound, so belt out some long OMs, or whatever other chants you like.\n",
    "Asana\n",
    "Warm up by practicing gentle neck stretches in all directions. Many heart openers/back bends are also throat openers. The ultimate is probably fish pose (matsyasana).\n",
    "Experiment with Music\n",
    "Try practicing yoga or meditation to healing sounds like Tibetan singing bowls, African drums, ocean waves, rock music—and sometimes in sweet silence.\n",
    "Mantra Meditation\n",
    "Perfect for sitting, standing or walking meditation, repeating a silent mantra is a form of meditation that helps us quickly focus and calm the mind. It can be a syllable sound like “Om” or a word or phrase in Sanskrit, English or whatever language you prefer. A nice one is “sat nam,” which means “I am the truth,” in Sanskrit, but there are millions to choose from.\n",
    "Mindfully Drink Tea\n",
    "Brew up a mugful of your favorite herbal tea and have your own little ceremony as you meditate and enjoy a delicious, soothing hot drink.\n",
    "Express Yourself\n",
    "Speak up! Share something about yourself with someone. Write a poem. Sing. Express your unique voice in whatever way you wish.\n",
    "On that note, if you’d like to participate in a two-week writing challenge this month, check out the reverb13 community writing project happening here at elephant.\"\"\""
   ]
  },
  {
   "cell_type": "markdown",
   "metadata": {},
   "source": [
    "# Lemmatisation (or lemmatization) in linguistics is the process of grouping together the inflected forms of a word so they can be analysed as a single item, identified by the word's lemma, or dictionary form.# In computational linguistics, lemmatisation is the algorithmic process of determining the lemma of a word based on its intended meaning. \n",
    "Unlike stemming, lemmatisation depends on correctly identifying the intended part of speech and meaning of a word in a sentence, as well as within the larger context surrounding that sentence, such as neighboring sentences or even an entire document. As a result, developing efficient lemmatisation algorithms is an open area of research"
   ]
  },
  {
   "cell_type": "markdown",
   "metadata": {},
   "source": [
    "# Used in ChatBot, Question Answer Application, Sentiment Analysis. Where the Intermediate meaning is required"
   ]
  },
  {
   "cell_type": "code",
   "execution_count": 4,
   "metadata": {},
   "outputs": [],
   "source": [
    "sentences = nltk.sent_tokenize(paragraph)\n",
    "lemmatizer = WordNetLemmatizer()"
   ]
  },
  {
   "cell_type": "code",
   "execution_count": 6,
   "metadata": {},
   "outputs": [],
   "source": [
    "# Lemmatization\n",
    "for i in range(len(sentences)):\n",
    "    lemwords = nltk.word_tokenize(sentences[i])\n",
    "    newlemwords = [lemmatizer.lemmatize(word) for word in lemwords]\n",
    "    sentences[i] = ' '.join(newlemwords)"
   ]
  },
  {
   "cell_type": "code",
   "execution_count": 7,
   "metadata": {},
   "outputs": [
    {
     "data": {
      "text/plain": [
       "['What are the quality of your voice ?',\n",
       " 'The Throat Center .',\n",
       " '{ Chakra of the Month } Mine is usually calm , soothing and clear .',\n",
       " 'Yoga student often tell me my voice is relaxing , which is a sweet compliment .',\n",
       " 'However , when I ’ m caught up in a moment of anger , fear or stress , my voice can get sharp and sound anything but calm and relaxing .',\n",
       " 'Let ’ s bring more mindfulness to our voice and how we use them this month .',\n",
       " 'Our December chakra focus is our communication center , the throat center .',\n",
       " 'Just joining in ?',\n",
       " 'Read about the first , second , third and fourth chakras .',\n",
       " 'Chakra author Anothea Judith writes : Vaguely Relephant Reads : You Don ’ t have to be an Alcoholic to be Wasted .',\n",
       " 'Read How to Get Over the One you Can ’ t Get Over .',\n",
       " 'Read Chakra five is the center related to communication through sound , vibration , self-expression and creativity .',\n",
       " 'It is the realm of consciousness that control , creates , transmits and receives communication , both within ourselves and between each other .',\n",
       " 'It is the center of dynamic creativity , of synthesizing old idea into something new .',\n",
       " 'The fifth chakra color is bright , cerulean or turquoise blue .',\n",
       " 'Some symptom of an out-of-balance fifth chakra include suffering from throat-centered illness , like strep throat or losing our voice .',\n",
       " 'Throaty ailment may mean we need to slow down , rest and communicate more clearly , both with ourselves and others , or they may be a result of excess communication or over-sharing—and a sign that we should give our voice a break and intentionally soak in silence .',\n",
       " 'If our life are busy , we need to relax and remember how to set boundary , express our need and allow time and space to nurture ourselves .',\n",
       " 'When our throat chakra is healthy and balanced , we express ourselves and communicate clearly , honestly and openly—but not excessively .',\n",
       " 'Here are some other way to help balance and align our throat chakra : Chant Any time we speak , sing , scream , whisper or make any other sort of sound with our voice , we invoke throat energy .',\n",
       " 'The element of vishuddha chakra is sound , so belt out some long OMs , or whatever other chant you like .',\n",
       " 'Asana Warm up by practicing gentle neck stretch in all direction .',\n",
       " 'Many heart openers/back bend are also throat opener .',\n",
       " 'The ultimate is probably fish pose ( matsyasana ) .',\n",
       " 'Experiment with Music Try practicing yoga or meditation to healing sound like Tibetan singing bowl , African drum , ocean wave , rock music—and sometimes in sweet silence .',\n",
       " 'Mantra Meditation Perfect for sitting , standing or walking meditation , repeating a silent mantra is a form of meditation that help u quickly focus and calm the mind .',\n",
       " 'It can be a syllable sound like “ Om ” or a word or phrase in Sanskrit , English or whatever language you prefer .',\n",
       " 'A nice one is “ sat nam , ” which mean “ I am the truth , ” in Sanskrit , but there are million to choose from .',\n",
       " 'Mindfully Drink Tea Brew up a mugful of your favorite herbal tea and have your own little ceremony a you meditate and enjoy a delicious , soothing hot drink .',\n",
       " 'Express Yourself Speak up !',\n",
       " 'Share something about yourself with someone .',\n",
       " 'Write a poem .',\n",
       " 'Sing .',\n",
       " 'Express your unique voice in whatever way you wish .',\n",
       " 'On that note , if you ’ d like to participate in a two-week writing challenge this month , check out the reverb13 community writing project happening here at elephant .']"
      ]
     },
     "execution_count": 7,
     "metadata": {},
     "output_type": "execute_result"
    }
   ],
   "source": [
    "sentences"
   ]
  },
  {
   "cell_type": "code",
   "execution_count": null,
   "metadata": {},
   "outputs": [],
   "source": []
  }
 ],
 "metadata": {
  "kernelspec": {
   "display_name": "Python 3",
   "language": "python",
   "name": "python3"
  },
  "language_info": {
   "codemirror_mode": {
    "name": "ipython",
    "version": 3
   },
   "file_extension": ".py",
   "mimetype": "text/x-python",
   "name": "python",
   "nbconvert_exporter": "python",
   "pygments_lexer": "ipython3",
   "version": "3.6.8"
  }
 },
 "nbformat": 4,
 "nbformat_minor": 2
}
